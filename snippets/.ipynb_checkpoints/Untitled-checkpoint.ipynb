{
 "cells": [
  {
   "cell_type": "code",
   "execution_count": 3,
   "metadata": {},
   "outputs": [
    {
     "data": {
      "text/plain": [
       "array([[1., 1., 1., 1., 1., 1., 1., 1., 1., 1.],\n",
       "       [1., 1., 1., 1., 1., 1., 1., 1., 1., 1.],\n",
       "       [1., 1., 1., 1., 1., 1., 1., 1., 1., 1.],\n",
       "       [1., 1., 1., 1., 1., 1., 1., 1., 1., 1.],\n",
       "       [1., 1., 1., 1., 1., 1., 1., 1., 1., 1.],\n",
       "       [1., 1., 1., 1., 1., 1., 1., 1., 1., 1.],\n",
       "       [1., 1., 1., 1., 1., 1., 1., 1., 1., 1.],\n",
       "       [1., 1., 1., 1., 1., 1., 1., 1., 1., 1.],\n",
       "       [1., 1., 1., 1., 1., 1., 1., 1., 1., 1.],\n",
       "       [1., 1., 1., 1., 1., 1., 1., 1., 1., 1.]])"
      ]
     },
     "execution_count": 3,
     "metadata": {},
     "output_type": "execute_result"
    }
   ],
   "source": [
    "import numpy as np\n",
    "np.ones((10,10))"
   ]
  },
  {
   "cell_type": "code",
   "execution_count": 5,
   "metadata": {},
   "outputs": [],
   "source": [
    "import IPython\n",
    "from tabulate import tabulate\n",
    "\n",
    "class OrgFormatter(IPython.core.formatters.BaseFormatter):\n",
    "    def __call__(self, obj):\n",
    "        try:\n",
    "            return tabulate(obj, headers='keys',\n",
    "                            tablefmt='orgtbl', showindex='always')\n",
    "        except:\n",
    "            return None\n",
    "\n",
    "ip = get_ipython()\n",
    "ip.display_formatter.formatters['text/org'] = OrgFormatter()"
   ]
  },
  {
   "cell_type": "code",
   "execution_count": 6,
   "metadata": {},
   "outputs": [
    {
     "data": {
      "text/org": [
       "|    |   0 |   1 |   2 |   3 |   4 |   5 |   6 |   7 |   8 |   9 |\n",
       "|----+-----+-----+-----+-----+-----+-----+-----+-----+-----+-----|\n",
       "|  0 |   1 |   1 |   1 |   1 |   1 |   1 |   1 |   1 |   1 |   1 |\n",
       "|  1 |   1 |   1 |   1 |   1 |   1 |   1 |   1 |   1 |   1 |   1 |\n",
       "|  2 |   1 |   1 |   1 |   1 |   1 |   1 |   1 |   1 |   1 |   1 |\n",
       "|  3 |   1 |   1 |   1 |   1 |   1 |   1 |   1 |   1 |   1 |   1 |\n",
       "|  4 |   1 |   1 |   1 |   1 |   1 |   1 |   1 |   1 |   1 |   1 |\n",
       "|  5 |   1 |   1 |   1 |   1 |   1 |   1 |   1 |   1 |   1 |   1 |\n",
       "|  6 |   1 |   1 |   1 |   1 |   1 |   1 |   1 |   1 |   1 |   1 |\n",
       "|  7 |   1 |   1 |   1 |   1 |   1 |   1 |   1 |   1 |   1 |   1 |\n",
       "|  8 |   1 |   1 |   1 |   1 |   1 |   1 |   1 |   1 |   1 |   1 |\n",
       "|  9 |   1 |   1 |   1 |   1 |   1 |   1 |   1 |   1 |   1 |   1 |"
      ],
      "text/plain": [
       "array([[1., 1., 1., 1., 1., 1., 1., 1., 1., 1.],\n",
       "       [1., 1., 1., 1., 1., 1., 1., 1., 1., 1.],\n",
       "       [1., 1., 1., 1., 1., 1., 1., 1., 1., 1.],\n",
       "       [1., 1., 1., 1., 1., 1., 1., 1., 1., 1.],\n",
       "       [1., 1., 1., 1., 1., 1., 1., 1., 1., 1.],\n",
       "       [1., 1., 1., 1., 1., 1., 1., 1., 1., 1.],\n",
       "       [1., 1., 1., 1., 1., 1., 1., 1., 1., 1.],\n",
       "       [1., 1., 1., 1., 1., 1., 1., 1., 1., 1.],\n",
       "       [1., 1., 1., 1., 1., 1., 1., 1., 1., 1.],\n",
       "       [1., 1., 1., 1., 1., 1., 1., 1., 1., 1.]])"
      ]
     },
     "execution_count": 6,
     "metadata": {},
     "output_type": "execute_result"
    }
   ],
   "source": [
    "import numpy as np\n",
    "np.ones((10,10))"
   ]
  },
  {
   "cell_type": "code",
   "execution_count": null,
   "metadata": {},
   "outputs": [],
   "source": []
  }
 ],
 "metadata": {
  "kernelspec": {
   "display_name": "Python 3",
   "language": "python",
   "name": "python3"
  },
  "language_info": {
   "codemirror_mode": {
    "name": "ipython",
    "version": 3
   },
   "file_extension": ".py",
   "mimetype": "text/x-python",
   "name": "python",
   "nbconvert_exporter": "python",
   "pygments_lexer": "ipython3",
   "version": "3.8.5"
  }
 },
 "nbformat": 4,
 "nbformat_minor": 4
}
